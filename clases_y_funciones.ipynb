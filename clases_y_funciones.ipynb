{
 "cells": [
  {
   "cell_type": "code",
   "execution_count": 50,
   "metadata": {},
   "outputs": [],
   "source": [
    "#Data handling\n",
    "import pandas as pd\n",
    "import numpy as np\n",
    "\n",
    "#Data preprocessing\n",
    "import os\n",
    "import pickle\n",
    "# from keras.models import load_model\n",
    "\n",
    "#Data modeling\n",
    "from sklearn.cluster import KMeans\n",
    "from sklearn.preprocessing import StandardScaler, FunctionTransformer\n",
    "from sklearn.linear_model import LinearRegression, Ridge, Lasso, ElasticNet, LogisticRegression\n",
    "from sklearn.model_selection import train_test_split\n",
    "from sklearn.metrics import mean_squared_error, r2_score, accuracy_score, confusion_matrix, classification_report, roc_curve, roc_auc_score, precision_score, recall_score, f1_score, auc\n",
    "from sklearn.pipeline import Pipeline\n",
    "from keras.models import load_model\n",
    "import warnings\n",
    "\n",
    "from imblearn.over_sampling import RandomOverSampler, SMOTE\n",
    "\n",
    "warnings.filterwarnings('ignore')\n"
   ]
  },
  {
   "cell_type": "code",
   "execution_count": 3,
   "metadata": {},
   "outputs": [],
   "source": [
    "input_features =[\n",
    "    'Date',\n",
    "    'Location',\n",
    "    'MinTemp',\n",
    "    'MaxTemp',\n",
    "    'Rainfall',\n",
    "    'Evaporation',\n",
    "    'Sunshine',\n",
    "    'WindGustDir',\n",
    "    'WindGustSpeed',\n",
    "    'WindDir9am',\n",
    "    'WindDir3pm',\n",
    "    'WindSpeed9am',\n",
    "    'WindSpeed3pm',\n",
    "    'Humidity9am',\n",
    "    'Humidity3pm',\n",
    "    'Pressure9am',\n",
    "    'Pressure3pm',\n",
    "    'Cloud9am',\n",
    "    'Cloud3pm',\n",
    "    'Temp9am',\n",
    "    'Temp3pm',\n",
    "    'RainToday',\n",
    "    'RainTomorrow',\n",
    "    'RainfallTomorrow'\n",
    "    ]\n",
    "\n",
    "selected_features = [\n",
    "                'MinTemp', \n",
    "                'MaxTemp', \n",
    "                'Evaporation',\n",
    "                'Sunshine',\n",
    "                'Wind9amu', \n",
    "                'Wind9amv', \n",
    "                'Wind3pmu', \n",
    "                'Wind3pmv', \n",
    "                'WindGustu',\n",
    "                'WindGustv', \n",
    "                'Max_Pressure',\n",
    "                'Min_Pressure',\n",
    "                'Max_Humidity',\n",
    "                'Min_Humidity',\n",
    "                'Estado_Cielo',\n",
    "                'Cluster',\n",
    "                'Date'\n",
    "            ]"
   ]
  },
  {
   "cell_type": "code",
   "execution_count": 4,
   "metadata": {},
   "outputs": [],
   "source": [
    "def feat_eng(df):\n",
    "    def cluster_cities(df):\n",
    "        city_cluster = {\n",
    "            'Adelaide': 10,\n",
    "            'Albany': 1,\n",
    "            'Albury': 4,\n",
    "            'AliceSprings': 3,\n",
    "            'BadgerysCreek': 2,\n",
    "            'Ballarat': 8,\n",
    "            'Bendigo': 8,\n",
    "            'Brisbane': 9,\n",
    "            'Cairns': 6,\n",
    "            'Canberra': 4,\n",
    "            'Cobar': 4,\n",
    "            'CoffsHarbour': 9,\n",
    "            'Dartmoor': 0,\n",
    "            'Darwin': 7,\n",
    "            'GoldCoast': 9,\n",
    "            'Hobart': 12,\n",
    "            'Katherine': 7,\n",
    "            'Launceston': 12,\n",
    "            'Melbourne': 8,\n",
    "            'MelbourneAirport': 8,\n",
    "            'Mildura': 0,\n",
    "            'Moree': 9,\n",
    "            'MountGambier': 0,\n",
    "            'MountGinini': 4,\n",
    "            'Newcastle': 2,\n",
    "            'Nhil': 0,\n",
    "            'NorahHead': 2,\n",
    "            'NorfolkIsland': 5,\n",
    "            'Nuriootpa': 10,\n",
    "            'PearceRAAF': 1,\n",
    "            'Penrith': 2,\n",
    "            'Perth': 1,\n",
    "            'PerthAirport': 1,\n",
    "            'Portland': 0,\n",
    "            'Richmond': 2,\n",
    "            'Sale': 8,\n",
    "            'Sydney': 2,\n",
    "            'SydneyAirport': 2,\n",
    "            'Townsville': 6,\n",
    "            'Tuggeranong': 4,\n",
    "            'Uluru': 3,\n",
    "            'WaggaWagga': 4,\n",
    "            'Walpole': 1,\n",
    "            'Watsonia': 8,\n",
    "            'Williamtown': 2,\n",
    "            'Witchcliffe': 1,\n",
    "            'Wollongong': 2,\n",
    "            'Woomera': 10\n",
    "            }\n",
    "    \n",
    "        cluster = df['Location'].map(city_cluster)\n",
    "    \n",
    "        return cluster\n",
    "    \n",
    "\n",
    "    def vector_coordinates(df, column, dir, speed, threshold=1e-6):\n",
    "        direcciones = {\n",
    "            'N': 0,\n",
    "            'NNE': 22.5,\n",
    "            'NE': 45,\n",
    "            'ENE': 67.5,\n",
    "            'E': 90,\n",
    "            'ESE': 112.5,\n",
    "            'SE': 135,\n",
    "            'SSE': 157.5,\n",
    "            'S': 180,\n",
    "            'SSW': 202.5,\n",
    "            'SW': 225,\n",
    "            'WSW': 247.5,\n",
    "            'W': 270,\n",
    "            'WNW': 292.5,\n",
    "            'NW': 315,\n",
    "            'NNW': 337.5\n",
    "        }\n",
    "        velocidad = df[speed]\n",
    "        df[column + 'u'] = -velocidad * np.sin(np.deg2rad(df[dir].map(direcciones)))\n",
    "        df[column + 'v'] = -velocidad * np.cos(np.deg2rad(df[dir].map(direcciones)))\n",
    "        \n",
    "        # Comprobación condicional para valores cercanos a cero\n",
    "        df[column + 'u'][np.abs(df[column + 'u']) < threshold] = 0\n",
    "        df[column + 'v'][np.abs(df[column + 'v']) < threshold] = 0\n",
    "        \n",
    "        return df\n",
    "\n",
    "    def definir_estado_del_cielo(row):\n",
    "        if row['Cloud9am'] == 0 and row['Cloud3pm'] == 0:\n",
    "            return 'Despejado'\n",
    "        elif row['Cloud9am'] <= 4 and row['Cloud3pm'] <= 4:\n",
    "            return 'Parcialmente Nublado'\n",
    "        elif row['Cloud9am'] <= 7 and row['Cloud3pm'] <= 7:\n",
    "            return 'Nublado'\n",
    "        else:\n",
    "            return 'Muy Nublado'\n",
    "    \n",
    "    df=vector_coordinates(df,'Wind9am','WindDir9am','WindSpeed9am')\n",
    "    df=vector_coordinates(df,'Wind3pm','WindDir3pm','WindSpeed3pm')\n",
    "    df=vector_coordinates(df,'WindGust','WindGustDir','WindGustSpeed')\n",
    "    df['Max_Pressure'] = df[['Pressure9am', 'Pressure3pm']].max(axis=1)\n",
    "    df['Min_Pressure'] = df[['Pressure9am', 'Pressure3pm']].min(axis=1)\n",
    "    df['Max_Humidity'] = df[['Humidity9am', 'Humidity3pm']].max(axis=1)\n",
    "    df['Min_Humidity'] = df[['Humidity9am', 'Humidity3pm']].min(axis=1)\n",
    "    df['Estado_Cielo'] = df.apply(definir_estado_del_cielo, axis=1)\n",
    "    df['Cluster'] = cluster_cities(df)\n",
    "\n",
    "    df.drop(['Cloud3pm','Cloud9am','Humidity3pm','Humidity9am','WindSpeed9am','WindSpeed3pm','WindGustSpeed','WindDir9am','WindDir3pm','WindGustDir','Pressure3pm','Pressure9am','Temp3pm','Temp9am'], axis=1, inplace=True)\n",
    "    df = df.replace([np.inf, -np.inf], 0)\n",
    "\n",
    "    return df"
   ]
  },
  {
   "cell_type": "code",
   "execution_count": 53,
   "metadata": {},
   "outputs": [],
   "source": [
    "def dataframe_normalized(df,features):\n",
    "    df_normalized = df.copy()\n",
    "    skystate = {\n",
    "        'Despejado' :               0,\n",
    "        'Parcialmente Nublado' :    1,\n",
    "        'Nublado' :                 2,\n",
    "        'Muy Nublado' :             3\n",
    "    }\n",
    "    df_normalized['RainToday'] = df_normalized['RainToday'].map({'No': 0, 'Yes': 1})\n",
    "    df_normalized['RainTomorrow'] = df_normalized['RainTomorrow'].map({'No': 0, 'Yes': 1})\n",
    "    df_normalized['Date'] = pd.to_datetime(df_normalized['Date'])\n",
    "    df_normalized['Date']=df_normalized['Date'].dt.dayofyear\n",
    "    df_normalized['Estado_Cielo'] = df_normalized['Estado_Cielo'].map(skystate)\n",
    "    scaler = StandardScaler()\n",
    "    df_normalized[features] = scaler.fit_transform(df_normalized[features])\n",
    "    \n",
    "    X = df_normalized[['Sunshine','Min_Humidity']]\n",
    "    y = df_normalized['RainTomorrow']\n",
    "\n",
    "    return X"
   ]
  },
  {
   "cell_type": "code",
   "execution_count": 9,
   "metadata": {},
   "outputs": [],
   "source": [
    "clasificadorNN = load_model('ClasificadorNN.h5')"
   ]
  },
  {
   "cell_type": "code",
   "execution_count": 14,
   "metadata": {},
   "outputs": [],
   "source": [
    "def clasificador(X_test_nnc):\n",
    "    clasificadorNN = load_model('ClasificadorNN.h5')\n",
    "    y_pred = clasificadorNN.predict(X_test_nnc)\n",
    "    return y_pred"
   ]
  },
  {
   "cell_type": "code",
   "execution_count": 15,
   "metadata": {},
   "outputs": [],
   "source": [
    "pipeline = Pipeline([\n",
    "    ('Feature Engineering', FunctionTransformer(feat_eng)),\n",
    "    ('df Normalized', FunctionTransformer(dataframe_normalized, kw_args={'features': selected_features})),\n",
    "    ('Model', clasificadorNN)\n",
    "])\n"
   ]
  },
  {
   "cell_type": "code",
   "execution_count": 40,
   "metadata": {},
   "outputs": [],
   "source": [
    "df = pd.read_csv('./files/weatherAUS_sin_nan.csv', usecols=input_features)"
   ]
  },
  {
   "cell_type": "code",
   "execution_count": 41,
   "metadata": {},
   "outputs": [
    {
     "data": {
      "text/plain": [
       "['Date',\n",
       " 'Location',\n",
       " 'MinTemp',\n",
       " 'MaxTemp',\n",
       " 'Rainfall',\n",
       " 'Evaporation',\n",
       " 'Sunshine',\n",
       " 'WindGustDir',\n",
       " 'WindGustSpeed',\n",
       " 'WindDir9am',\n",
       " 'WindDir3pm',\n",
       " 'WindSpeed9am',\n",
       " 'WindSpeed3pm',\n",
       " 'Humidity9am',\n",
       " 'Humidity3pm',\n",
       " 'Pressure9am',\n",
       " 'Pressure3pm',\n",
       " 'Cloud9am',\n",
       " 'Cloud3pm',\n",
       " 'Temp9am',\n",
       " 'Temp3pm',\n",
       " 'RainToday',\n",
       " 'RainTomorrow',\n",
       " 'RainfallTomorrow']"
      ]
     },
     "execution_count": 41,
     "metadata": {},
     "output_type": "execute_result"
    }
   ],
   "source": [
    "df.columns.to_list()\n"
   ]
  },
  {
   "cell_type": "code",
   "execution_count": 42,
   "metadata": {},
   "outputs": [],
   "source": [
    "# df['Min_Humidity'] = df[['Humidity9am', 'Humidity3pm']].min(axis=1)\n",
    "# #I want to divide in train test\n",
    "# X = df[['Sunshine','Min_Humidity']]\n",
    "# y = df['RainTomorrow']\n",
    "# X = df.drop(['RainTomorrow','RainfallTomorrow'], axis=1)\n",
    "# y = df['RainTomorrow']\n",
    "# X_train, X_test, y_train, y_test = train_test_split(X, y, test_size=0.2, random_state=42, stratify=y)"
   ]
  },
  {
   "cell_type": "code",
   "execution_count": 65,
   "metadata": {},
   "outputs": [],
   "source": [
    "#I want to obtain only a sample of the data to use for the prediction and check wether the pipeline works\n",
    "df_sample = df.sample(1, random_state=42)"
   ]
  },
  {
   "cell_type": "code",
   "execution_count": 66,
   "metadata": {},
   "outputs": [],
   "source": [
    "df_sample['Date'] = pd.to_datetime(df_sample['Date'])\n",
    "a=df_sample['Date'].dt.dayofyear"
   ]
  },
  {
   "cell_type": "code",
   "execution_count": 60,
   "metadata": {},
   "outputs": [
    {
     "data": {
      "text/plain": [
       "20356    213\n",
       "Name: Date, dtype: int64"
      ]
     },
     "execution_count": 60,
     "metadata": {},
     "output_type": "execute_result"
    }
   ],
   "source": [
    "a"
   ]
  },
  {
   "cell_type": "code",
   "execution_count": 61,
   "metadata": {},
   "outputs": [
    {
     "name": "stdout",
     "output_type": "stream",
     "text": [
      "True\n"
     ]
    }
   ],
   "source": [
    "print('WindSpeed9am' in df_sample.columns)"
   ]
  },
  {
   "cell_type": "code",
   "execution_count": 62,
   "metadata": {},
   "outputs": [
    {
     "name": "stdout",
     "output_type": "stream",
     "text": [
      "<class 'pandas.core.frame.DataFrame'>\n",
      "Int64Index: 1 entries, 20356 to 20356\n",
      "Data columns (total 24 columns):\n",
      " #   Column            Non-Null Count  Dtype         \n",
      "---  ------            --------------  -----         \n",
      " 0   Date              1 non-null      datetime64[ns]\n",
      " 1   Location          1 non-null      object        \n",
      " 2   MinTemp           1 non-null      float64       \n",
      " 3   MaxTemp           1 non-null      float64       \n",
      " 4   Rainfall          1 non-null      float64       \n",
      " 5   Evaporation       1 non-null      float64       \n",
      " 6   Sunshine          1 non-null      float64       \n",
      " 7   WindGustDir       1 non-null      object        \n",
      " 8   WindGustSpeed     1 non-null      float64       \n",
      " 9   WindDir9am        1 non-null      object        \n",
      " 10  WindDir3pm        1 non-null      object        \n",
      " 11  WindSpeed9am      1 non-null      float64       \n",
      " 12  WindSpeed3pm      1 non-null      float64       \n",
      " 13  Humidity9am       1 non-null      float64       \n",
      " 14  Humidity3pm       1 non-null      float64       \n",
      " 15  Pressure9am       1 non-null      float64       \n",
      " 16  Pressure3pm       1 non-null      float64       \n",
      " 17  Cloud9am          1 non-null      float64       \n",
      " 18  Cloud3pm          1 non-null      float64       \n",
      " 19  Temp9am           1 non-null      float64       \n",
      " 20  Temp3pm           1 non-null      float64       \n",
      " 21  RainToday         1 non-null      object        \n",
      " 22  RainTomorrow      1 non-null      object        \n",
      " 23  RainfallTomorrow  1 non-null      float64       \n",
      "dtypes: datetime64[ns](1), float64(17), object(6)\n",
      "memory usage: 200.0+ bytes\n"
     ]
    }
   ],
   "source": [
    "df_sample.info()"
   ]
  },
  {
   "cell_type": "code",
   "execution_count": 44,
   "metadata": {},
   "outputs": [
    {
     "data": {
      "text/html": [
       "<div>\n",
       "<style scoped>\n",
       "    .dataframe tbody tr th:only-of-type {\n",
       "        vertical-align: middle;\n",
       "    }\n",
       "\n",
       "    .dataframe tbody tr th {\n",
       "        vertical-align: top;\n",
       "    }\n",
       "\n",
       "    .dataframe thead th {\n",
       "        text-align: right;\n",
       "    }\n",
       "</style>\n",
       "<table border=\"1\" class=\"dataframe\">\n",
       "  <thead>\n",
       "    <tr style=\"text-align: right;\">\n",
       "      <th></th>\n",
       "      <th>Date</th>\n",
       "      <th>Location</th>\n",
       "      <th>MinTemp</th>\n",
       "      <th>MaxTemp</th>\n",
       "      <th>Rainfall</th>\n",
       "      <th>Evaporation</th>\n",
       "      <th>Sunshine</th>\n",
       "      <th>WindGustDir</th>\n",
       "      <th>WindGustSpeed</th>\n",
       "      <th>WindDir9am</th>\n",
       "      <th>...</th>\n",
       "      <th>WindSpeed3pm</th>\n",
       "      <th>Humidity9am</th>\n",
       "      <th>Humidity3pm</th>\n",
       "      <th>Pressure9am</th>\n",
       "      <th>Pressure3pm</th>\n",
       "      <th>Cloud9am</th>\n",
       "      <th>Cloud3pm</th>\n",
       "      <th>Temp9am</th>\n",
       "      <th>Temp3pm</th>\n",
       "      <th>RainToday</th>\n",
       "    </tr>\n",
       "  </thead>\n",
       "  <tbody>\n",
       "    <tr>\n",
       "      <th>19459</th>\n",
       "      <td>2015-07-21</td>\n",
       "      <td>NorahHead</td>\n",
       "      <td>10.8</td>\n",
       "      <td>19.3</td>\n",
       "      <td>2.0</td>\n",
       "      <td>1.1</td>\n",
       "      <td>8.633333</td>\n",
       "      <td>N</td>\n",
       "      <td>52.0</td>\n",
       "      <td>NW</td>\n",
       "      <td>...</td>\n",
       "      <td>22.0</td>\n",
       "      <td>85.0</td>\n",
       "      <td>72.0</td>\n",
       "      <td>1032.9</td>\n",
       "      <td>1029.6</td>\n",
       "      <td>5.0</td>\n",
       "      <td>3.0</td>\n",
       "      <td>14.2</td>\n",
       "      <td>17.0</td>\n",
       "      <td>Yes</td>\n",
       "    </tr>\n",
       "  </tbody>\n",
       "</table>\n",
       "<p>1 rows × 22 columns</p>\n",
       "</div>"
      ],
      "text/plain": [
       "             Date   Location  MinTemp  MaxTemp  Rainfall  Evaporation  \\\n",
       "19459  2015-07-21  NorahHead     10.8     19.3       2.0          1.1   \n",
       "\n",
       "       Sunshine WindGustDir  WindGustSpeed WindDir9am  ... WindSpeed3pm  \\\n",
       "19459  8.633333           N           52.0         NW  ...         22.0   \n",
       "\n",
       "       Humidity9am  Humidity3pm  Pressure9am  Pressure3pm  Cloud9am  Cloud3pm  \\\n",
       "19459         85.0         72.0       1032.9       1029.6       5.0       3.0   \n",
       "\n",
       "       Temp9am  Temp3pm  RainToday  \n",
       "19459     14.2     17.0        Yes  \n",
       "\n",
       "[1 rows x 22 columns]"
      ]
     },
     "execution_count": 44,
     "metadata": {},
     "output_type": "execute_result"
    }
   ],
   "source": [
    "X_train_sample"
   ]
  },
  {
   "cell_type": "code",
   "execution_count": 16,
   "metadata": {},
   "outputs": [
    {
     "data": {
      "text/html": [
       "<style>#sk-container-id-3 {color: black;}#sk-container-id-3 pre{padding: 0;}#sk-container-id-3 div.sk-toggleable {background-color: white;}#sk-container-id-3 label.sk-toggleable__label {cursor: pointer;display: block;width: 100%;margin-bottom: 0;padding: 0.3em;box-sizing: border-box;text-align: center;}#sk-container-id-3 label.sk-toggleable__label-arrow:before {content: \"▸\";float: left;margin-right: 0.25em;color: #696969;}#sk-container-id-3 label.sk-toggleable__label-arrow:hover:before {color: black;}#sk-container-id-3 div.sk-estimator:hover label.sk-toggleable__label-arrow:before {color: black;}#sk-container-id-3 div.sk-toggleable__content {max-height: 0;max-width: 0;overflow: hidden;text-align: left;background-color: #f0f8ff;}#sk-container-id-3 div.sk-toggleable__content pre {margin: 0.2em;color: black;border-radius: 0.25em;background-color: #f0f8ff;}#sk-container-id-3 input.sk-toggleable__control:checked~div.sk-toggleable__content {max-height: 200px;max-width: 100%;overflow: auto;}#sk-container-id-3 input.sk-toggleable__control:checked~label.sk-toggleable__label-arrow:before {content: \"▾\";}#sk-container-id-3 div.sk-estimator input.sk-toggleable__control:checked~label.sk-toggleable__label {background-color: #d4ebff;}#sk-container-id-3 div.sk-label input.sk-toggleable__control:checked~label.sk-toggleable__label {background-color: #d4ebff;}#sk-container-id-3 input.sk-hidden--visually {border: 0;clip: rect(1px 1px 1px 1px);clip: rect(1px, 1px, 1px, 1px);height: 1px;margin: -1px;overflow: hidden;padding: 0;position: absolute;width: 1px;}#sk-container-id-3 div.sk-estimator {font-family: monospace;background-color: #f0f8ff;border: 1px dotted black;border-radius: 0.25em;box-sizing: border-box;margin-bottom: 0.5em;}#sk-container-id-3 div.sk-estimator:hover {background-color: #d4ebff;}#sk-container-id-3 div.sk-parallel-item::after {content: \"\";width: 100%;border-bottom: 1px solid gray;flex-grow: 1;}#sk-container-id-3 div.sk-label:hover label.sk-toggleable__label {background-color: #d4ebff;}#sk-container-id-3 div.sk-serial::before {content: \"\";position: absolute;border-left: 1px solid gray;box-sizing: border-box;top: 0;bottom: 0;left: 50%;z-index: 0;}#sk-container-id-3 div.sk-serial {display: flex;flex-direction: column;align-items: center;background-color: white;padding-right: 0.2em;padding-left: 0.2em;position: relative;}#sk-container-id-3 div.sk-item {position: relative;z-index: 1;}#sk-container-id-3 div.sk-parallel {display: flex;align-items: stretch;justify-content: center;background-color: white;position: relative;}#sk-container-id-3 div.sk-item::before, #sk-container-id-3 div.sk-parallel-item::before {content: \"\";position: absolute;border-left: 1px solid gray;box-sizing: border-box;top: 0;bottom: 0;left: 50%;z-index: -1;}#sk-container-id-3 div.sk-parallel-item {display: flex;flex-direction: column;z-index: 1;position: relative;background-color: white;}#sk-container-id-3 div.sk-parallel-item:first-child::after {align-self: flex-end;width: 50%;}#sk-container-id-3 div.sk-parallel-item:last-child::after {align-self: flex-start;width: 50%;}#sk-container-id-3 div.sk-parallel-item:only-child::after {width: 0;}#sk-container-id-3 div.sk-dashed-wrapped {border: 1px dashed gray;margin: 0 0.4em 0.5em 0.4em;box-sizing: border-box;padding-bottom: 0.4em;background-color: white;}#sk-container-id-3 div.sk-label label {font-family: monospace;font-weight: bold;display: inline-block;line-height: 1.2em;}#sk-container-id-3 div.sk-label-container {text-align: center;}#sk-container-id-3 div.sk-container {/* jupyter's `normalize.less` sets `[hidden] { display: none; }` but bootstrap.min.css set `[hidden] { display: none !important; }` so we also need the `!important` here to be able to override the default hidden behavior on the sphinx rendered scikit-learn.org. See: https://github.com/scikit-learn/scikit-learn/issues/21755 */display: inline-block !important;position: relative;}#sk-container-id-3 div.sk-text-repr-fallback {display: none;}</style><div id=\"sk-container-id-3\" class=\"sk-top-container\"><div class=\"sk-text-repr-fallback\"><pre>Pipeline(steps=[(&#x27;Feature Engineering&#x27;,\n",
       "                 FunctionTransformer(func=&lt;function feat_eng at 0x000001F5A9196830&gt;)),\n",
       "                (&#x27;df Normalized&#x27;,\n",
       "                 FunctionTransformer(func=&lt;function dataframe_normalized at 0x000001F5A9196C20&gt;,\n",
       "                                     kw_args={&#x27;features&#x27;: [&#x27;MinTemp&#x27;, &#x27;MaxTemp&#x27;,\n",
       "                                                           &#x27;Evaporation&#x27;,\n",
       "                                                           &#x27;Sunshine&#x27;,\n",
       "                                                           &#x27;Wind9amu&#x27;,\n",
       "                                                           &#x27;Wind9amv&#x27;,\n",
       "                                                           &#x27;Wind3pmu&#x27;,\n",
       "                                                           &#x27;Wind3pmv&#x27;,\n",
       "                                                           &#x27;WindGustu&#x27;,\n",
       "                                                           &#x27;WindGustv&#x27;,\n",
       "                                                           &#x27;Max_Pressure&#x27;,\n",
       "                                                           &#x27;Min_Pressure&#x27;,\n",
       "                                                           &#x27;Max_Humidity&#x27;,\n",
       "                                                           &#x27;Min_Humidity&#x27;,\n",
       "                                                           &#x27;Estado_Cielo&#x27;,\n",
       "                                                           &#x27;Cluster&#x27;,\n",
       "                                                           &#x27;Date&#x27;]})),\n",
       "                (&#x27;Clasificador&#x27;,\n",
       "                 FunctionTransformer(func=&lt;function clasificador at 0x000001F5A9196B90&gt;))])</pre><b>In a Jupyter environment, please rerun this cell to show the HTML representation or trust the notebook. <br />On GitHub, the HTML representation is unable to render, please try loading this page with nbviewer.org.</b></div><div class=\"sk-container\" hidden><div class=\"sk-item sk-dashed-wrapped\"><div class=\"sk-label-container\"><div class=\"sk-label sk-toggleable\"><input class=\"sk-toggleable__control sk-hidden--visually\" id=\"sk-estimator-id-8\" type=\"checkbox\" ><label for=\"sk-estimator-id-8\" class=\"sk-toggleable__label sk-toggleable__label-arrow\">Pipeline</label><div class=\"sk-toggleable__content\"><pre>Pipeline(steps=[(&#x27;Feature Engineering&#x27;,\n",
       "                 FunctionTransformer(func=&lt;function feat_eng at 0x000001F5A9196830&gt;)),\n",
       "                (&#x27;df Normalized&#x27;,\n",
       "                 FunctionTransformer(func=&lt;function dataframe_normalized at 0x000001F5A9196C20&gt;,\n",
       "                                     kw_args={&#x27;features&#x27;: [&#x27;MinTemp&#x27;, &#x27;MaxTemp&#x27;,\n",
       "                                                           &#x27;Evaporation&#x27;,\n",
       "                                                           &#x27;Sunshine&#x27;,\n",
       "                                                           &#x27;Wind9amu&#x27;,\n",
       "                                                           &#x27;Wind9amv&#x27;,\n",
       "                                                           &#x27;Wind3pmu&#x27;,\n",
       "                                                           &#x27;Wind3pmv&#x27;,\n",
       "                                                           &#x27;WindGustu&#x27;,\n",
       "                                                           &#x27;WindGustv&#x27;,\n",
       "                                                           &#x27;Max_Pressure&#x27;,\n",
       "                                                           &#x27;Min_Pressure&#x27;,\n",
       "                                                           &#x27;Max_Humidity&#x27;,\n",
       "                                                           &#x27;Min_Humidity&#x27;,\n",
       "                                                           &#x27;Estado_Cielo&#x27;,\n",
       "                                                           &#x27;Cluster&#x27;,\n",
       "                                                           &#x27;Date&#x27;]})),\n",
       "                (&#x27;Clasificador&#x27;,\n",
       "                 FunctionTransformer(func=&lt;function clasificador at 0x000001F5A9196B90&gt;))])</pre></div></div></div><div class=\"sk-serial\"><div class=\"sk-item\"><div class=\"sk-estimator sk-toggleable\"><input class=\"sk-toggleable__control sk-hidden--visually\" id=\"sk-estimator-id-9\" type=\"checkbox\" ><label for=\"sk-estimator-id-9\" class=\"sk-toggleable__label sk-toggleable__label-arrow\">FunctionTransformer</label><div class=\"sk-toggleable__content\"><pre>FunctionTransformer(func=&lt;function feat_eng at 0x000001F5A9196830&gt;)</pre></div></div></div><div class=\"sk-item\"><div class=\"sk-estimator sk-toggleable\"><input class=\"sk-toggleable__control sk-hidden--visually\" id=\"sk-estimator-id-10\" type=\"checkbox\" ><label for=\"sk-estimator-id-10\" class=\"sk-toggleable__label sk-toggleable__label-arrow\">FunctionTransformer</label><div class=\"sk-toggleable__content\"><pre>FunctionTransformer(func=&lt;function dataframe_normalized at 0x000001F5A9196C20&gt;,\n",
       "                    kw_args={&#x27;features&#x27;: [&#x27;MinTemp&#x27;, &#x27;MaxTemp&#x27;, &#x27;Evaporation&#x27;,\n",
       "                                          &#x27;Sunshine&#x27;, &#x27;Wind9amu&#x27;, &#x27;Wind9amv&#x27;,\n",
       "                                          &#x27;Wind3pmu&#x27;, &#x27;Wind3pmv&#x27;, &#x27;WindGustu&#x27;,\n",
       "                                          &#x27;WindGustv&#x27;, &#x27;Max_Pressure&#x27;,\n",
       "                                          &#x27;Min_Pressure&#x27;, &#x27;Max_Humidity&#x27;,\n",
       "                                          &#x27;Min_Humidity&#x27;, &#x27;Estado_Cielo&#x27;,\n",
       "                                          &#x27;Cluster&#x27;, &#x27;Date&#x27;]})</pre></div></div></div><div class=\"sk-item\"><div class=\"sk-estimator sk-toggleable\"><input class=\"sk-toggleable__control sk-hidden--visually\" id=\"sk-estimator-id-11\" type=\"checkbox\" ><label for=\"sk-estimator-id-11\" class=\"sk-toggleable__label sk-toggleable__label-arrow\">FunctionTransformer</label><div class=\"sk-toggleable__content\"><pre>FunctionTransformer(func=&lt;function clasificador at 0x000001F5A9196B90&gt;)</pre></div></div></div></div></div></div></div>"
      ],
      "text/plain": [
       "Pipeline(steps=[('Feature Engineering',\n",
       "                 FunctionTransformer(func=<function feat_eng at 0x000001F5A9196830>)),\n",
       "                ('df Normalized',\n",
       "                 FunctionTransformer(func=<function dataframe_normalized at 0x000001F5A9196C20>,\n",
       "                                     kw_args={'features': ['MinTemp', 'MaxTemp',\n",
       "                                                           'Evaporation',\n",
       "                                                           'Sunshine',\n",
       "                                                           'Wind9amu',\n",
       "                                                           'Wind9amv',\n",
       "                                                           'Wind3pmu',\n",
       "                                                           'Wind3pmv',\n",
       "                                                           'WindGustu',\n",
       "                                                           'WindGustv',\n",
       "                                                           'Max_Pressure',\n",
       "                                                           'Min_Pressure',\n",
       "                                                           'Max_Humidity',\n",
       "                                                           'Min_Humidity',\n",
       "                                                           'Estado_Cielo',\n",
       "                                                           'Cluster',\n",
       "                                                           'Date']})),\n",
       "                ('Clasificador',\n",
       "                 FunctionTransformer(func=<function clasificador at 0x000001F5A9196B90>))])"
      ]
     },
     "execution_count": 16,
     "metadata": {},
     "output_type": "execute_result"
    }
   ],
   "source": [
    "pipeline"
   ]
  },
  {
   "cell_type": "code",
   "execution_count": 67,
   "metadata": {},
   "outputs": [
    {
     "ename": "AttributeError",
     "evalue": "'FunctionTransformer' object has no attribute 'predict'",
     "output_type": "error",
     "traceback": [
      "\u001b[1;31m---------------------------------------------------------------------------\u001b[0m",
      "\u001b[1;31mAttributeError\u001b[0m                            Traceback (most recent call last)",
      "\u001b[1;32mc:\\Users\\augus\\Desktop\\FCEIA\\TUIA\\4to_cuatrimestre\\Aprendizaje_automatico_I\\Tp\\tp_apat\\clases_y_funciones.ipynb Cell 18\u001b[0m line \u001b[0;36m2\n\u001b[0;32m      <a href='vscode-notebook-cell:/c%3A/Users/augus/Desktop/FCEIA/TUIA/4to_cuatrimestre/Aprendizaje_automatico_I/Tp/tp_apat/clases_y_funciones.ipynb#X20sZmlsZQ%3D%3D?line=0'>1</a>\u001b[0m \u001b[39m#I want to check if the pipeline works predicting the sample\u001b[39;00m\n\u001b[1;32m----> <a href='vscode-notebook-cell:/c%3A/Users/augus/Desktop/FCEIA/TUIA/4to_cuatrimestre/Aprendizaje_automatico_I/Tp/tp_apat/clases_y_funciones.ipynb#X20sZmlsZQ%3D%3D?line=1'>2</a>\u001b[0m pipeline\u001b[39m.\u001b[39mpredict(df_sample)\n",
      "File \u001b[1;32m~\\AppData\\Local\\Packages\\PythonSoftwareFoundation.Python.3.10_qbz5n2kfra8p0\\LocalCache\\local-packages\\Python310\\site-packages\\sklearn\\utils\\_available_if.py:31\u001b[0m, in \u001b[0;36m_AvailableIfDescriptor.__get__\u001b[1;34m(self, obj, owner)\u001b[0m\n\u001b[0;32m     25\u001b[0m attr_err \u001b[39m=\u001b[39m \u001b[39mAttributeError\u001b[39;00m(\n\u001b[0;32m     26\u001b[0m     \u001b[39mf\u001b[39m\u001b[39m\"\u001b[39m\u001b[39mThis \u001b[39m\u001b[39m{\u001b[39;00m\u001b[39mrepr\u001b[39m(owner\u001b[39m.\u001b[39m\u001b[39m__name__\u001b[39m)\u001b[39m}\u001b[39;00m\u001b[39m has no attribute \u001b[39m\u001b[39m{\u001b[39;00m\u001b[39mrepr\u001b[39m(\u001b[39mself\u001b[39m\u001b[39m.\u001b[39mattribute_name)\u001b[39m}\u001b[39;00m\u001b[39m\"\u001b[39m\n\u001b[0;32m     27\u001b[0m )\n\u001b[0;32m     28\u001b[0m \u001b[39mif\u001b[39;00m obj \u001b[39mis\u001b[39;00m \u001b[39mnot\u001b[39;00m \u001b[39mNone\u001b[39;00m:\n\u001b[0;32m     29\u001b[0m     \u001b[39m# delegate only on instances, not the classes.\u001b[39;00m\n\u001b[0;32m     30\u001b[0m     \u001b[39m# this is to allow access to the docstrings.\u001b[39;00m\n\u001b[1;32m---> 31\u001b[0m     \u001b[39mif\u001b[39;00m \u001b[39mnot\u001b[39;00m \u001b[39mself\u001b[39;49m\u001b[39m.\u001b[39;49mcheck(obj):\n\u001b[0;32m     32\u001b[0m         \u001b[39mraise\u001b[39;00m attr_err\n\u001b[0;32m     33\u001b[0m     out \u001b[39m=\u001b[39m MethodType(\u001b[39mself\u001b[39m\u001b[39m.\u001b[39mfn, obj)\n",
      "File \u001b[1;32m~\\AppData\\Local\\Packages\\PythonSoftwareFoundation.Python.3.10_qbz5n2kfra8p0\\LocalCache\\local-packages\\Python310\\site-packages\\sklearn\\pipeline.py:44\u001b[0m, in \u001b[0;36m_final_estimator_has.<locals>.check\u001b[1;34m(self)\u001b[0m\n\u001b[0;32m     42\u001b[0m \u001b[39mdef\u001b[39;00m \u001b[39mcheck\u001b[39m(\u001b[39mself\u001b[39m):\n\u001b[0;32m     43\u001b[0m     \u001b[39m# raise original `AttributeError` if `attr` does not exist\u001b[39;00m\n\u001b[1;32m---> 44\u001b[0m     \u001b[39mgetattr\u001b[39;49m(\u001b[39mself\u001b[39;49m\u001b[39m.\u001b[39;49m_final_estimator, attr)\n\u001b[0;32m     45\u001b[0m     \u001b[39mreturn\u001b[39;00m \u001b[39mTrue\u001b[39;00m\n",
      "\u001b[1;31mAttributeError\u001b[0m: 'FunctionTransformer' object has no attribute 'predict'"
     ]
    }
   ],
   "source": [
    "#I want to check if the pipeline works predicting the sample\n",
    "pipeline.predict(df_sample)\n",
    "\n",
    "\n",
    "# pipeline.fit(df_sample)"
   ]
  }
 ],
 "metadata": {
  "kernelspec": {
   "display_name": "Python 3",
   "language": "python",
   "name": "python3"
  },
  "language_info": {
   "codemirror_mode": {
    "name": "ipython",
    "version": 3
   },
   "file_extension": ".py",
   "mimetype": "text/x-python",
   "name": "python",
   "nbconvert_exporter": "python",
   "pygments_lexer": "ipython3",
   "version": "3.10.11"
  }
 },
 "nbformat": 4,
 "nbformat_minor": 2
}
