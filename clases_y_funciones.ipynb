{
 "cells": [
  {
   "cell_type": "code",
   "execution_count": 1,
   "metadata": {},
   "outputs": [],
   "source": [
    "#Data handling\n",
    "import pandas as pd\n",
    "import numpy as np\n",
    "\n",
    "#Data preprocessing\n",
    "import os\n",
    "import pickle\n",
    "# from keras.models import load_model\n",
    "import joblib\n",
    "\n",
    "#Data modeling\n",
    "from sklearn.cluster import KMeans\n",
    "from sklearn.preprocessing import StandardScaler, FunctionTransformer\n",
    "from sklearn.linear_model import LinearRegression, Ridge, Lasso, ElasticNet, LogisticRegression\n",
    "from sklearn.model_selection import train_test_split\n",
    "from sklearn.metrics import mean_squared_error, r2_score, accuracy_score, confusion_matrix, classification_report, roc_curve, roc_auc_score, precision_score, recall_score, f1_score, auc\n",
    "from sklearn.pipeline import Pipeline\n",
    "from keras.models import load_model\n",
    "import warnings\n",
    "\n",
    "from imblearn.over_sampling import RandomOverSampler, SMOTE\n",
    "\n",
    "warnings.filterwarnings('ignore')\n"
   ]
  },
  {
   "cell_type": "code",
   "execution_count": 2,
   "metadata": {},
   "outputs": [],
   "source": [
    "input_features =[\n",
    "    'Date',\n",
    "    'Location',\n",
    "    'MinTemp',\n",
    "    'MaxTemp',\n",
    "    'Rainfall',\n",
    "    'Evaporation',\n",
    "    'Sunshine',\n",
    "    'WindGustDir',\n",
    "    'WindGustSpeed',\n",
    "    'WindDir9am',\n",
    "    'WindDir3pm',\n",
    "    'WindSpeed9am',\n",
    "    'WindSpeed3pm',\n",
    "    'Humidity9am',\n",
    "    'Humidity3pm',\n",
    "    'Pressure9am',\n",
    "    'Pressure3pm',\n",
    "    'Cloud9am',\n",
    "    'Cloud3pm',\n",
    "    'Temp9am',\n",
    "    'Temp3pm',\n",
    "    'RainToday',\n",
    "    'RainTomorrow',\n",
    "    'RainfallTomorrow'\n",
    "    ]\n",
    "\n",
    "selected_features = [\n",
    "                'MinTemp', \n",
    "                'MaxTemp', \n",
    "                'Evaporation',\n",
    "                'Sunshine',\n",
    "                'Wind9amu', \n",
    "                'Wind9amv', \n",
    "                'Wind3pmu', \n",
    "                'Wind3pmv', \n",
    "                'WindGustu',\n",
    "                'WindGustv', \n",
    "                'Max_Pressure',\n",
    "                'Min_Pressure',\n",
    "                'Max_Humidity',\n",
    "                'Min_Humidity',\n",
    "                'Estado_Cielo',\n",
    "                'Cluster',\n",
    "                'Date'\n",
    "            ]"
   ]
  },
  {
   "cell_type": "code",
   "execution_count": 3,
   "metadata": {},
   "outputs": [],
   "source": [
    "def feat_eng_regr(df):\n",
    "    def cluster_cities(df):\n",
    "        city_cluster = {\n",
    "            'Adelaide': 10,\n",
    "            'Albany': 1,\n",
    "            'Albury': 4,\n",
    "            'AliceSprings': 3,\n",
    "            'BadgerysCreek': 2,\n",
    "            'Ballarat': 8,\n",
    "            'Bendigo': 8,\n",
    "            'Brisbane': 9,\n",
    "            'Cairns': 6,\n",
    "            'Canberra': 4,\n",
    "            'Cobar': 4,\n",
    "            'CoffsHarbour': 9,\n",
    "            'Dartmoor': 0,\n",
    "            'Darwin': 7,\n",
    "            'GoldCoast': 9,\n",
    "            'Hobart': 12,\n",
    "            'Katherine': 7,\n",
    "            'Launceston': 12,\n",
    "            'Melbourne': 8,\n",
    "            'MelbourneAirport': 8,\n",
    "            'Mildura': 0,\n",
    "            'Moree': 9,\n",
    "            'MountGambier': 0,\n",
    "            'MountGinini': 4,\n",
    "            'Newcastle': 2,\n",
    "            'Nhil': 0,\n",
    "            'NorahHead': 2,\n",
    "            'NorfolkIsland': 5,\n",
    "            'Nuriootpa': 10,\n",
    "            'PearceRAAF': 1,\n",
    "            'Penrith': 2,\n",
    "            'Perth': 1,\n",
    "            'PerthAirport': 1,\n",
    "            'Portland': 0,\n",
    "            'Richmond': 2,\n",
    "            'Sale': 8,\n",
    "            'Sydney': 2,\n",
    "            'SydneyAirport': 2,\n",
    "            'Townsville': 6,\n",
    "            'Tuggeranong': 4,\n",
    "            'Uluru': 3,\n",
    "            'WaggaWagga': 4,\n",
    "            'Walpole': 1,\n",
    "            'Watsonia': 8,\n",
    "            'Williamtown': 2,\n",
    "            'Witchcliffe': 1,\n",
    "            'Wollongong': 2,\n",
    "            'Woomera': 10\n",
    "            }\n",
    "    \n",
    "        cluster = df['Location'].map(city_cluster)\n",
    "    \n",
    "        return cluster\n",
    "    \n",
    "\n",
    "    def vector_coordinates(df, column, dir, speed, threshold=1e-6):\n",
    "        direcciones = {\n",
    "            'N': 0,\n",
    "            'NNE': 22.5,\n",
    "            'NE': 45,\n",
    "            'ENE': 67.5,\n",
    "            'E': 90,\n",
    "            'ESE': 112.5,\n",
    "            'SE': 135,\n",
    "            'SSE': 157.5,\n",
    "            'S': 180,\n",
    "            'SSW': 202.5,\n",
    "            'SW': 225,\n",
    "            'WSW': 247.5,\n",
    "            'W': 270,\n",
    "            'WNW': 292.5,\n",
    "            'NW': 315,\n",
    "            'NNW': 337.5\n",
    "        }\n",
    "        velocidad = df[speed]\n",
    "        df[column + 'u'] = -velocidad * np.sin(np.deg2rad(df[dir].map(direcciones)))\n",
    "        df[column + 'v'] = -velocidad * np.cos(np.deg2rad(df[dir].map(direcciones)))\n",
    "        \n",
    "        # Comprobación condicional para valores cercanos a cero\n",
    "        df[column + 'u'][np.abs(df[column + 'u']) < threshold] = 0\n",
    "        df[column + 'v'][np.abs(df[column + 'v']) < threshold] = 0\n",
    "        \n",
    "        return df\n",
    "\n",
    "    def definir_estado_del_cielo(row):\n",
    "        if row['Cloud9am'] == 0 and row['Cloud3pm'] == 0:\n",
    "            return 'Despejado'\n",
    "        elif row['Cloud9am'] <= 4 and row['Cloud3pm'] <= 4:\n",
    "            return 'Parcialmente Nublado'\n",
    "        elif row['Cloud9am'] <= 7 and row['Cloud3pm'] <= 7:\n",
    "            return 'Nublado'\n",
    "        else:\n",
    "            return 'Muy Nublado'\n",
    "    \n",
    "    df=vector_coordinates(df,'Wind9am','WindDir9am','WindSpeed9am')\n",
    "    df=vector_coordinates(df,'Wind3pm','WindDir3pm','WindSpeed3pm')\n",
    "    df=vector_coordinates(df,'WindGust','WindGustDir','WindGustSpeed')\n",
    "    df['Max_Pressure'] = df[['Pressure9am', 'Pressure3pm']].max(axis=1)\n",
    "    df['Min_Pressure'] = df[['Pressure9am', 'Pressure3pm']].min(axis=1)\n",
    "    df['Max_Humidity'] = df[['Humidity9am', 'Humidity3pm']].max(axis=1)\n",
    "    df['Min_Humidity'] = df[['Humidity9am', 'Humidity3pm']].min(axis=1)\n",
    "    df['Estado_Cielo'] = df.apply(definir_estado_del_cielo, axis=1)\n",
    "    df['Cluster'] = cluster_cities(df)\n",
    "\n",
    "    df.drop(['Cloud3pm','Cloud9am','Humidity3pm','Humidity9am','WindSpeed9am','WindSpeed3pm','WindGustSpeed','WindDir9am','WindDir3pm','WindGustDir','Pressure3pm','Pressure9am','Temp3pm','Temp9am'], axis=1, inplace=True)\n",
    "    df = df.replace([np.inf, -np.inf], 0)\n",
    "\n",
    "    return df"
   ]
  },
  {
   "cell_type": "code",
   "execution_count": 4,
   "metadata": {},
   "outputs": [],
   "source": [
    "def feat_eng_clas(df):\n",
    "    df_normalized = df.copy()\n",
    "    df_normalized['Min_Humidity'] = df_normalized[['Humidity9am', 'Humidity3pm']].min(axis=1)\n",
    "\n",
    "    df_normalized.drop(['Humidity3pm','Humidity9am'], axis=1, inplace=True)\n",
    "    df_normalized = df_normalized.replace([np.inf, -np.inf], 0)\n",
    "\n",
    "    scaler = StandardScaler()\n",
    "    df_normalized = pd.DataFrame(scaler.fit_transform(df_normalized), columns=df_normalized.columns)\n",
    "\n",
    "    X = df_normalized[['Sunshine','Min_Humidity']]\n",
    "\n",
    "    return X"
   ]
  },
  {
   "cell_type": "code",
   "execution_count": 5,
   "metadata": {},
   "outputs": [],
   "source": [
    "def dataframe_normalized_regress(df,features):\n",
    "    df_normalized = df.copy()\n",
    "    skystate = {\n",
    "        'Despejado' :               0,\n",
    "        'Parcialmente Nublado' :    1,\n",
    "        'Nublado' :                 2,\n",
    "        'Muy Nublado' :             3\n",
    "    }\n",
    "    df_normalized['RainToday'] = df_normalized['RainToday'].map({'No': 0, 'Yes': 1})\n",
    "    df_normalized['RainTomorrow'] = df_normalized['RainTomorrow'].map({'No': 0, 'Yes': 1})\n",
    "    df_normalized['Date'] = pd.to_datetime(df_normalized['Date'])\n",
    "    df_normalized['Date']=df_normalized['Date'].dt.dayofyear\n",
    "    df_normalized['Estado_Cielo'] = df_normalized['Estado_Cielo'].map(skystate)\n",
    "    scaler = StandardScaler()\n",
    "    df_normalized[features] = scaler.fit_transform(df_normalized[features])\n",
    "    \n",
    "    columns =   [\n",
    "                    'MinTemp', \n",
    "                    'MaxTemp', \n",
    "                    'Evaporation',\n",
    "                    'Sunshine',\n",
    "                    'Wind9amu', \n",
    "                    'Wind9amv', \n",
    "                    'Wind3pmu', \n",
    "                    'Wind3pmv', \n",
    "                    'WindGustu',\n",
    "                    'WindGustv', \n",
    "                    'Max_Pressure',\n",
    "                    'Min_Pressure',\n",
    "                    'Max_Humidity',\n",
    "                    'Min_Humidity',\n",
    "                    'Estado_Cielo',\n",
    "                    'Cluster',\n",
    "                    'Date'\n",
    "                ]\n",
    "\n",
    "    X = df_normalized[columns]\n",
    "\n",
    "    return X"
   ]
  },
  {
   "cell_type": "code",
   "execution_count": 6,
   "metadata": {},
   "outputs": [],
   "source": [
    "clasificadorNN = load_model('ClasificadorNN.h5')"
   ]
  },
  {
   "cell_type": "code",
   "execution_count": 7,
   "metadata": {},
   "outputs": [],
   "source": [
    "pipeline_clasf = Pipeline([\n",
    "    ('Feature Engineering', FunctionTransformer(feat_eng_clas)),\n",
    "    ('Model', clasificadorNN)\n",
    "])\n"
   ]
  },
  {
   "cell_type": "code",
   "execution_count": 8,
   "metadata": {},
   "outputs": [],
   "source": [
    "regresionNN = load_model('RegresionNN.h5')"
   ]
  },
  {
   "cell_type": "code",
   "execution_count": 9,
   "metadata": {},
   "outputs": [],
   "source": [
    "pipeline_regress = Pipeline([\n",
    "    ('Feature Engineering', FunctionTransformer(feat_eng_regr)),\n",
    "    ('df Normalized', FunctionTransformer(dataframe_normalized_regress, kw_args={'features': selected_features})),\n",
    "    ('Model', regresionNN)\n",
    "])"
   ]
  },
  {
   "cell_type": "code",
   "execution_count": 10,
   "metadata": {},
   "outputs": [],
   "source": [
    "df = pd.read_csv('./files/weatherAUS_sin_nan.csv', usecols=input_features)"
   ]
  },
  {
   "cell_type": "code",
   "execution_count": 11,
   "metadata": {},
   "outputs": [],
   "source": [
    "#I want to obtain only a sample of the data to use for the prediction and check wether the pipeline works\n",
    "df_sample = df.sample(1, random_state=42)"
   ]
  },
  {
   "cell_type": "code",
   "execution_count": 12,
   "metadata": {},
   "outputs": [
    {
     "data": {
      "text/plain": [
       "[{'Date': '2009-08-01',\n",
       "  'Location': 'NorfolkIsland',\n",
       "  'MinTemp': 11.3,\n",
       "  'MaxTemp': 18.4,\n",
       "  'Rainfall': 0.0,\n",
       "  'Evaporation': 2.0,\n",
       "  'Sunshine': 8.7,\n",
       "  'WindGustDir': 'WSW',\n",
       "  'WindGustSpeed': 19.0,\n",
       "  'WindDir9am': 'ENE',\n",
       "  'WindDir3pm': 'WSW',\n",
       "  'WindSpeed9am': 2.0,\n",
       "  'WindSpeed3pm': 11.0,\n",
       "  'Humidity9am': 70.0,\n",
       "  'Humidity3pm': 61.0,\n",
       "  'Pressure9am': 1022.0,\n",
       "  'Pressure3pm': 1019.6,\n",
       "  'Cloud9am': 1.0,\n",
       "  'Cloud3pm': 1.0,\n",
       "  'Temp9am': 17.5,\n",
       "  'Temp3pm': 18.0,\n",
       "  'RainToday': 'No',\n",
       "  'RainTomorrow': 'No',\n",
       "  'RainfallTomorrow': 0.0}]"
      ]
     },
     "execution_count": 12,
     "metadata": {},
     "output_type": "execute_result"
    }
   ],
   "source": [
    "#i want the values of the sample to be in a dict\n",
    "df_sample_dict = df_sample.to_dict('records')\n",
    "df_sample_dict"
   ]
  },
  {
   "cell_type": "code",
   "execution_count": 13,
   "metadata": {},
   "outputs": [
    {
     "name": "stdout",
     "output_type": "stream",
     "text": [
      "Index(['Date', 'Location', 'MinTemp', 'MaxTemp', 'Rainfall', 'Evaporation',\n",
      "       'Sunshine', 'WindGustDir', 'WindGustSpeed', 'WindDir9am', 'WindDir3pm',\n",
      "       'WindSpeed9am', 'WindSpeed3pm', 'Humidity9am', 'Humidity3pm',\n",
      "       'Pressure9am', 'Pressure3pm', 'Cloud9am', 'Cloud3pm', 'Temp9am',\n",
      "       'Temp3pm', 'RainToday', 'RainTomorrow', 'RainfallTomorrow'],\n",
      "      dtype='object')\n"
     ]
    }
   ],
   "source": [
    "print(df_sample.columns)"
   ]
  },
  {
   "cell_type": "code",
   "execution_count": 14,
   "metadata": {},
   "outputs": [
    {
     "data": {
      "text/html": [
       "<style>#sk-container-id-1 {color: black;}#sk-container-id-1 pre{padding: 0;}#sk-container-id-1 div.sk-toggleable {background-color: white;}#sk-container-id-1 label.sk-toggleable__label {cursor: pointer;display: block;width: 100%;margin-bottom: 0;padding: 0.3em;box-sizing: border-box;text-align: center;}#sk-container-id-1 label.sk-toggleable__label-arrow:before {content: \"▸\";float: left;margin-right: 0.25em;color: #696969;}#sk-container-id-1 label.sk-toggleable__label-arrow:hover:before {color: black;}#sk-container-id-1 div.sk-estimator:hover label.sk-toggleable__label-arrow:before {color: black;}#sk-container-id-1 div.sk-toggleable__content {max-height: 0;max-width: 0;overflow: hidden;text-align: left;background-color: #f0f8ff;}#sk-container-id-1 div.sk-toggleable__content pre {margin: 0.2em;color: black;border-radius: 0.25em;background-color: #f0f8ff;}#sk-container-id-1 input.sk-toggleable__control:checked~div.sk-toggleable__content {max-height: 200px;max-width: 100%;overflow: auto;}#sk-container-id-1 input.sk-toggleable__control:checked~label.sk-toggleable__label-arrow:before {content: \"▾\";}#sk-container-id-1 div.sk-estimator input.sk-toggleable__control:checked~label.sk-toggleable__label {background-color: #d4ebff;}#sk-container-id-1 div.sk-label input.sk-toggleable__control:checked~label.sk-toggleable__label {background-color: #d4ebff;}#sk-container-id-1 input.sk-hidden--visually {border: 0;clip: rect(1px 1px 1px 1px);clip: rect(1px, 1px, 1px, 1px);height: 1px;margin: -1px;overflow: hidden;padding: 0;position: absolute;width: 1px;}#sk-container-id-1 div.sk-estimator {font-family: monospace;background-color: #f0f8ff;border: 1px dotted black;border-radius: 0.25em;box-sizing: border-box;margin-bottom: 0.5em;}#sk-container-id-1 div.sk-estimator:hover {background-color: #d4ebff;}#sk-container-id-1 div.sk-parallel-item::after {content: \"\";width: 100%;border-bottom: 1px solid gray;flex-grow: 1;}#sk-container-id-1 div.sk-label:hover label.sk-toggleable__label {background-color: #d4ebff;}#sk-container-id-1 div.sk-serial::before {content: \"\";position: absolute;border-left: 1px solid gray;box-sizing: border-box;top: 0;bottom: 0;left: 50%;z-index: 0;}#sk-container-id-1 div.sk-serial {display: flex;flex-direction: column;align-items: center;background-color: white;padding-right: 0.2em;padding-left: 0.2em;position: relative;}#sk-container-id-1 div.sk-item {position: relative;z-index: 1;}#sk-container-id-1 div.sk-parallel {display: flex;align-items: stretch;justify-content: center;background-color: white;position: relative;}#sk-container-id-1 div.sk-item::before, #sk-container-id-1 div.sk-parallel-item::before {content: \"\";position: absolute;border-left: 1px solid gray;box-sizing: border-box;top: 0;bottom: 0;left: 50%;z-index: -1;}#sk-container-id-1 div.sk-parallel-item {display: flex;flex-direction: column;z-index: 1;position: relative;background-color: white;}#sk-container-id-1 div.sk-parallel-item:first-child::after {align-self: flex-end;width: 50%;}#sk-container-id-1 div.sk-parallel-item:last-child::after {align-self: flex-start;width: 50%;}#sk-container-id-1 div.sk-parallel-item:only-child::after {width: 0;}#sk-container-id-1 div.sk-dashed-wrapped {border: 1px dashed gray;margin: 0 0.4em 0.5em 0.4em;box-sizing: border-box;padding-bottom: 0.4em;background-color: white;}#sk-container-id-1 div.sk-label label {font-family: monospace;font-weight: bold;display: inline-block;line-height: 1.2em;}#sk-container-id-1 div.sk-label-container {text-align: center;}#sk-container-id-1 div.sk-container {/* jupyter's `normalize.less` sets `[hidden] { display: none; }` but bootstrap.min.css set `[hidden] { display: none !important; }` so we also need the `!important` here to be able to override the default hidden behavior on the sphinx rendered scikit-learn.org. See: https://github.com/scikit-learn/scikit-learn/issues/21755 */display: inline-block !important;position: relative;}#sk-container-id-1 div.sk-text-repr-fallback {display: none;}</style><div id=\"sk-container-id-1\" class=\"sk-top-container\"><div class=\"sk-text-repr-fallback\"><pre>Pipeline(steps=[(&#x27;Feature Engineering&#x27;,\n",
       "                 FunctionTransformer(func=&lt;function feat_eng_clas at 0x00000264AF4D6E60&gt;)),\n",
       "                (&#x27;Model&#x27;,\n",
       "                 &lt;keras.engine.sequential.Sequential object at 0x00000264E8004A00&gt;)])</pre><b>In a Jupyter environment, please rerun this cell to show the HTML representation or trust the notebook. <br />On GitHub, the HTML representation is unable to render, please try loading this page with nbviewer.org.</b></div><div class=\"sk-container\" hidden><div class=\"sk-item sk-dashed-wrapped\"><div class=\"sk-label-container\"><div class=\"sk-label sk-toggleable\"><input class=\"sk-toggleable__control sk-hidden--visually\" id=\"sk-estimator-id-1\" type=\"checkbox\" ><label for=\"sk-estimator-id-1\" class=\"sk-toggleable__label sk-toggleable__label-arrow\">Pipeline</label><div class=\"sk-toggleable__content\"><pre>Pipeline(steps=[(&#x27;Feature Engineering&#x27;,\n",
       "                 FunctionTransformer(func=&lt;function feat_eng_clas at 0x00000264AF4D6E60&gt;)),\n",
       "                (&#x27;Model&#x27;,\n",
       "                 &lt;keras.engine.sequential.Sequential object at 0x00000264E8004A00&gt;)])</pre></div></div></div><div class=\"sk-serial\"><div class=\"sk-item\"><div class=\"sk-estimator sk-toggleable\"><input class=\"sk-toggleable__control sk-hidden--visually\" id=\"sk-estimator-id-2\" type=\"checkbox\" ><label for=\"sk-estimator-id-2\" class=\"sk-toggleable__label sk-toggleable__label-arrow\">FunctionTransformer</label><div class=\"sk-toggleable__content\"><pre>FunctionTransformer(func=&lt;function feat_eng_clas at 0x00000264AF4D6E60&gt;)</pre></div></div></div><div class=\"sk-item\"><div class=\"sk-estimator sk-toggleable\"><input class=\"sk-toggleable__control sk-hidden--visually\" id=\"sk-estimator-id-3\" type=\"checkbox\" ><label for=\"sk-estimator-id-3\" class=\"sk-toggleable__label sk-toggleable__label-arrow\">Sequential</label><div class=\"sk-toggleable__content\"><pre>&lt;keras.engine.sequential.Sequential object at 0x00000264E8004A00&gt;</pre></div></div></div></div></div></div></div>"
      ],
      "text/plain": [
       "Pipeline(steps=[('Feature Engineering',\n",
       "                 FunctionTransformer(func=<function feat_eng_clas at 0x00000264AF4D6E60>)),\n",
       "                ('Model',\n",
       "                 <keras.engine.sequential.Sequential object at 0x00000264E8004A00>)])"
      ]
     },
     "execution_count": 14,
     "metadata": {},
     "output_type": "execute_result"
    }
   ],
   "source": [
    "pipeline_clasf"
   ]
  },
  {
   "cell_type": "code",
   "execution_count": 15,
   "metadata": {},
   "outputs": [
    {
     "name": "stdout",
     "output_type": "stream",
     "text": [
      "1/1 [==============================] - 2s 2s/step\n"
     ]
    },
    {
     "data": {
      "text/plain": [
       "0.5670569"
      ]
     },
     "execution_count": 15,
     "metadata": {},
     "output_type": "execute_result"
    }
   ],
   "source": [
    "#I want to check if the pipeline works predicting the sample\n",
    "# pipeline.fit(df_sample)\n",
    "a = pipeline_clasf.predict(df_sample[['Sunshine', 'Humidity9am', 'Humidity3pm']])\n",
    "a[0][0]"
   ]
  },
  {
   "cell_type": "code",
   "execution_count": 16,
   "metadata": {},
   "outputs": [
    {
     "name": "stdout",
     "output_type": "stream",
     "text": [
      "INFO:tensorflow:Assets written to: ram://627dcd2b-09a7-4c42-b2a5-70a9ea9f965d/assets\n"
     ]
    },
    {
     "data": {
      "text/plain": [
       "['rain_or_not_prediction.joblib']"
      ]
     },
     "execution_count": 16,
     "metadata": {},
     "output_type": "execute_result"
    }
   ],
   "source": [
    "joblib.dump(pipeline_clasf, 'rain_or_not_prediction.joblib')"
   ]
  },
  {
   "cell_type": "code",
   "execution_count": 17,
   "metadata": {},
   "outputs": [
    {
     "data": {
      "text/html": [
       "<style>#sk-container-id-2 {color: black;}#sk-container-id-2 pre{padding: 0;}#sk-container-id-2 div.sk-toggleable {background-color: white;}#sk-container-id-2 label.sk-toggleable__label {cursor: pointer;display: block;width: 100%;margin-bottom: 0;padding: 0.3em;box-sizing: border-box;text-align: center;}#sk-container-id-2 label.sk-toggleable__label-arrow:before {content: \"▸\";float: left;margin-right: 0.25em;color: #696969;}#sk-container-id-2 label.sk-toggleable__label-arrow:hover:before {color: black;}#sk-container-id-2 div.sk-estimator:hover label.sk-toggleable__label-arrow:before {color: black;}#sk-container-id-2 div.sk-toggleable__content {max-height: 0;max-width: 0;overflow: hidden;text-align: left;background-color: #f0f8ff;}#sk-container-id-2 div.sk-toggleable__content pre {margin: 0.2em;color: black;border-radius: 0.25em;background-color: #f0f8ff;}#sk-container-id-2 input.sk-toggleable__control:checked~div.sk-toggleable__content {max-height: 200px;max-width: 100%;overflow: auto;}#sk-container-id-2 input.sk-toggleable__control:checked~label.sk-toggleable__label-arrow:before {content: \"▾\";}#sk-container-id-2 div.sk-estimator input.sk-toggleable__control:checked~label.sk-toggleable__label {background-color: #d4ebff;}#sk-container-id-2 div.sk-label input.sk-toggleable__control:checked~label.sk-toggleable__label {background-color: #d4ebff;}#sk-container-id-2 input.sk-hidden--visually {border: 0;clip: rect(1px 1px 1px 1px);clip: rect(1px, 1px, 1px, 1px);height: 1px;margin: -1px;overflow: hidden;padding: 0;position: absolute;width: 1px;}#sk-container-id-2 div.sk-estimator {font-family: monospace;background-color: #f0f8ff;border: 1px dotted black;border-radius: 0.25em;box-sizing: border-box;margin-bottom: 0.5em;}#sk-container-id-2 div.sk-estimator:hover {background-color: #d4ebff;}#sk-container-id-2 div.sk-parallel-item::after {content: \"\";width: 100%;border-bottom: 1px solid gray;flex-grow: 1;}#sk-container-id-2 div.sk-label:hover label.sk-toggleable__label {background-color: #d4ebff;}#sk-container-id-2 div.sk-serial::before {content: \"\";position: absolute;border-left: 1px solid gray;box-sizing: border-box;top: 0;bottom: 0;left: 50%;z-index: 0;}#sk-container-id-2 div.sk-serial {display: flex;flex-direction: column;align-items: center;background-color: white;padding-right: 0.2em;padding-left: 0.2em;position: relative;}#sk-container-id-2 div.sk-item {position: relative;z-index: 1;}#sk-container-id-2 div.sk-parallel {display: flex;align-items: stretch;justify-content: center;background-color: white;position: relative;}#sk-container-id-2 div.sk-item::before, #sk-container-id-2 div.sk-parallel-item::before {content: \"\";position: absolute;border-left: 1px solid gray;box-sizing: border-box;top: 0;bottom: 0;left: 50%;z-index: -1;}#sk-container-id-2 div.sk-parallel-item {display: flex;flex-direction: column;z-index: 1;position: relative;background-color: white;}#sk-container-id-2 div.sk-parallel-item:first-child::after {align-self: flex-end;width: 50%;}#sk-container-id-2 div.sk-parallel-item:last-child::after {align-self: flex-start;width: 50%;}#sk-container-id-2 div.sk-parallel-item:only-child::after {width: 0;}#sk-container-id-2 div.sk-dashed-wrapped {border: 1px dashed gray;margin: 0 0.4em 0.5em 0.4em;box-sizing: border-box;padding-bottom: 0.4em;background-color: white;}#sk-container-id-2 div.sk-label label {font-family: monospace;font-weight: bold;display: inline-block;line-height: 1.2em;}#sk-container-id-2 div.sk-label-container {text-align: center;}#sk-container-id-2 div.sk-container {/* jupyter's `normalize.less` sets `[hidden] { display: none; }` but bootstrap.min.css set `[hidden] { display: none !important; }` so we also need the `!important` here to be able to override the default hidden behavior on the sphinx rendered scikit-learn.org. See: https://github.com/scikit-learn/scikit-learn/issues/21755 */display: inline-block !important;position: relative;}#sk-container-id-2 div.sk-text-repr-fallback {display: none;}</style><div id=\"sk-container-id-2\" class=\"sk-top-container\"><div class=\"sk-text-repr-fallback\"><pre>Pipeline(steps=[(&#x27;Feature Engineering&#x27;,\n",
       "                 FunctionTransformer(func=&lt;function feat_eng_regr at 0x00000264AF4D69E0&gt;)),\n",
       "                (&#x27;df Normalized&#x27;,\n",
       "                 FunctionTransformer(func=&lt;function dataframe_normalized_regress at 0x00000264E7F4D000&gt;,\n",
       "                                     kw_args={&#x27;features&#x27;: [&#x27;MinTemp&#x27;, &#x27;MaxTemp&#x27;,\n",
       "                                                           &#x27;Evaporation&#x27;,\n",
       "                                                           &#x27;Sunshine&#x27;,\n",
       "                                                           &#x27;Wind9amu&#x27;,\n",
       "                                                           &#x27;Wind9amv&#x27;,\n",
       "                                                           &#x27;Wind3pmu&#x27;,\n",
       "                                                           &#x27;Wind3pmv&#x27;,\n",
       "                                                           &#x27;WindGustu&#x27;,\n",
       "                                                           &#x27;WindGustv&#x27;,\n",
       "                                                           &#x27;Max_Pressure&#x27;,\n",
       "                                                           &#x27;Min_Pressure&#x27;,\n",
       "                                                           &#x27;Max_Humidity&#x27;,\n",
       "                                                           &#x27;Min_Humidity&#x27;,\n",
       "                                                           &#x27;Estado_Cielo&#x27;,\n",
       "                                                           &#x27;Cluster&#x27;,\n",
       "                                                           &#x27;Date&#x27;]})),\n",
       "                (&#x27;Model&#x27;,\n",
       "                 &lt;keras.engine.sequential.Sequential object at 0x00000264E8006A70&gt;)])</pre><b>In a Jupyter environment, please rerun this cell to show the HTML representation or trust the notebook. <br />On GitHub, the HTML representation is unable to render, please try loading this page with nbviewer.org.</b></div><div class=\"sk-container\" hidden><div class=\"sk-item sk-dashed-wrapped\"><div class=\"sk-label-container\"><div class=\"sk-label sk-toggleable\"><input class=\"sk-toggleable__control sk-hidden--visually\" id=\"sk-estimator-id-4\" type=\"checkbox\" ><label for=\"sk-estimator-id-4\" class=\"sk-toggleable__label sk-toggleable__label-arrow\">Pipeline</label><div class=\"sk-toggleable__content\"><pre>Pipeline(steps=[(&#x27;Feature Engineering&#x27;,\n",
       "                 FunctionTransformer(func=&lt;function feat_eng_regr at 0x00000264AF4D69E0&gt;)),\n",
       "                (&#x27;df Normalized&#x27;,\n",
       "                 FunctionTransformer(func=&lt;function dataframe_normalized_regress at 0x00000264E7F4D000&gt;,\n",
       "                                     kw_args={&#x27;features&#x27;: [&#x27;MinTemp&#x27;, &#x27;MaxTemp&#x27;,\n",
       "                                                           &#x27;Evaporation&#x27;,\n",
       "                                                           &#x27;Sunshine&#x27;,\n",
       "                                                           &#x27;Wind9amu&#x27;,\n",
       "                                                           &#x27;Wind9amv&#x27;,\n",
       "                                                           &#x27;Wind3pmu&#x27;,\n",
       "                                                           &#x27;Wind3pmv&#x27;,\n",
       "                                                           &#x27;WindGustu&#x27;,\n",
       "                                                           &#x27;WindGustv&#x27;,\n",
       "                                                           &#x27;Max_Pressure&#x27;,\n",
       "                                                           &#x27;Min_Pressure&#x27;,\n",
       "                                                           &#x27;Max_Humidity&#x27;,\n",
       "                                                           &#x27;Min_Humidity&#x27;,\n",
       "                                                           &#x27;Estado_Cielo&#x27;,\n",
       "                                                           &#x27;Cluster&#x27;,\n",
       "                                                           &#x27;Date&#x27;]})),\n",
       "                (&#x27;Model&#x27;,\n",
       "                 &lt;keras.engine.sequential.Sequential object at 0x00000264E8006A70&gt;)])</pre></div></div></div><div class=\"sk-serial\"><div class=\"sk-item\"><div class=\"sk-estimator sk-toggleable\"><input class=\"sk-toggleable__control sk-hidden--visually\" id=\"sk-estimator-id-5\" type=\"checkbox\" ><label for=\"sk-estimator-id-5\" class=\"sk-toggleable__label sk-toggleable__label-arrow\">FunctionTransformer</label><div class=\"sk-toggleable__content\"><pre>FunctionTransformer(func=&lt;function feat_eng_regr at 0x00000264AF4D69E0&gt;)</pre></div></div></div><div class=\"sk-item\"><div class=\"sk-estimator sk-toggleable\"><input class=\"sk-toggleable__control sk-hidden--visually\" id=\"sk-estimator-id-6\" type=\"checkbox\" ><label for=\"sk-estimator-id-6\" class=\"sk-toggleable__label sk-toggleable__label-arrow\">FunctionTransformer</label><div class=\"sk-toggleable__content\"><pre>FunctionTransformer(func=&lt;function dataframe_normalized_regress at 0x00000264E7F4D000&gt;,\n",
       "                    kw_args={&#x27;features&#x27;: [&#x27;MinTemp&#x27;, &#x27;MaxTemp&#x27;, &#x27;Evaporation&#x27;,\n",
       "                                          &#x27;Sunshine&#x27;, &#x27;Wind9amu&#x27;, &#x27;Wind9amv&#x27;,\n",
       "                                          &#x27;Wind3pmu&#x27;, &#x27;Wind3pmv&#x27;, &#x27;WindGustu&#x27;,\n",
       "                                          &#x27;WindGustv&#x27;, &#x27;Max_Pressure&#x27;,\n",
       "                                          &#x27;Min_Pressure&#x27;, &#x27;Max_Humidity&#x27;,\n",
       "                                          &#x27;Min_Humidity&#x27;, &#x27;Estado_Cielo&#x27;,\n",
       "                                          &#x27;Cluster&#x27;, &#x27;Date&#x27;]})</pre></div></div></div><div class=\"sk-item\"><div class=\"sk-estimator sk-toggleable\"><input class=\"sk-toggleable__control sk-hidden--visually\" id=\"sk-estimator-id-7\" type=\"checkbox\" ><label for=\"sk-estimator-id-7\" class=\"sk-toggleable__label sk-toggleable__label-arrow\">Sequential</label><div class=\"sk-toggleable__content\"><pre>&lt;keras.engine.sequential.Sequential object at 0x00000264E8006A70&gt;</pre></div></div></div></div></div></div></div>"
      ],
      "text/plain": [
       "Pipeline(steps=[('Feature Engineering',\n",
       "                 FunctionTransformer(func=<function feat_eng_regr at 0x00000264AF4D69E0>)),\n",
       "                ('df Normalized',\n",
       "                 FunctionTransformer(func=<function dataframe_normalized_regress at 0x00000264E7F4D000>,\n",
       "                                     kw_args={'features': ['MinTemp', 'MaxTemp',\n",
       "                                                           'Evaporation',\n",
       "                                                           'Sunshine',\n",
       "                                                           'Wind9amu',\n",
       "                                                           'Wind9amv',\n",
       "                                                           'Wind3pmu',\n",
       "                                                           'Wind3pmv',\n",
       "                                                           'WindGustu',\n",
       "                                                           'WindGustv',\n",
       "                                                           'Max_Pressure',\n",
       "                                                           'Min_Pressure',\n",
       "                                                           'Max_Humidity',\n",
       "                                                           'Min_Humidity',\n",
       "                                                           'Estado_Cielo',\n",
       "                                                           'Cluster',\n",
       "                                                           'Date']})),\n",
       "                ('Model',\n",
       "                 <keras.engine.sequential.Sequential object at 0x00000264E8006A70>)])"
      ]
     },
     "execution_count": 17,
     "metadata": {},
     "output_type": "execute_result"
    }
   ],
   "source": [
    "pipeline_regress"
   ]
  },
  {
   "cell_type": "code",
   "execution_count": 18,
   "metadata": {},
   "outputs": [
    {
     "name": "stdout",
     "output_type": "stream",
     "text": [
      "1/1 [==============================] - 0s 49ms/step\n"
     ]
    },
    {
     "data": {
      "text/plain": [
       "0.41641378"
      ]
     },
     "execution_count": 18,
     "metadata": {},
     "output_type": "execute_result"
    }
   ],
   "source": [
    "b = pipeline_regress.predict(df_sample)\n",
    "b[0][0]"
   ]
  },
  {
   "cell_type": "code",
   "execution_count": 19,
   "metadata": {},
   "outputs": [
    {
     "name": "stdout",
     "output_type": "stream",
     "text": [
      "INFO:tensorflow:Assets written to: ram://b1572b82-77c3-432a-9a39-d09642723fd6/assets\n"
     ]
    },
    {
     "data": {
      "text/plain": [
       "['rainfall_amount_prediction.joblib']"
      ]
     },
     "execution_count": 19,
     "metadata": {},
     "output_type": "execute_result"
    }
   ],
   "source": [
    "joblib.dump(pipeline_regress, 'rainfall_amount_prediction.joblib')"
   ]
  }
 ],
 "metadata": {
  "kernelspec": {
   "display_name": "Python 3",
   "language": "python",
   "name": "python3"
  },
  "language_info": {
   "codemirror_mode": {
    "name": "ipython",
    "version": 3
   },
   "file_extension": ".py",
   "mimetype": "text/x-python",
   "name": "python",
   "nbconvert_exporter": "python",
   "pygments_lexer": "ipython3",
   "version": "3.10.0"
  }
 },
 "nbformat": 4,
 "nbformat_minor": 2
}
